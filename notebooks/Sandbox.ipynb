{
 "cells": [
  {
   "cell_type": "code",
   "execution_count": 1,
   "id": "1a3bf3f3",
   "metadata": {},
   "outputs": [],
   "source": [
    "import numpy as np\n",
    "import pandas as pd"
   ]
  },
  {
   "cell_type": "code",
   "execution_count": 2,
   "id": "629a96e4",
   "metadata": {},
   "outputs": [
    {
     "name": "stdout",
     "output_type": "stream",
     "text": [
      "C:\\Users\\molok\\AppData\\Local\\pypoetry\\Cache\\virtualenvs\\lpp-6NAJWl0s-py3.10\n"
     ]
    }
   ],
   "source": [
    "# Make sure we use the correct venv\n",
    "\n",
    "import sys\n",
    "print(sys.prefix)"
   ]
  },
  {
   "cell_type": "code",
   "execution_count": 3,
   "id": "c1d7cef8",
   "metadata": {},
   "outputs": [],
   "source": [
    "dd_df = pd.read_excel('../datasets/demo.xlsx')"
   ]
  },
  {
   "cell_type": "code",
   "execution_count": 4,
   "id": "b7f7c6fe",
   "metadata": {},
   "outputs": [
    {
     "data": {
      "text/html": [
       "<div>\n",
       "<style scoped>\n",
       "    .dataframe tbody tr th:only-of-type {\n",
       "        vertical-align: middle;\n",
       "    }\n",
       "\n",
       "    .dataframe tbody tr th {\n",
       "        vertical-align: top;\n",
       "    }\n",
       "\n",
       "    .dataframe thead th {\n",
       "        text-align: right;\n",
       "    }\n",
       "</style>\n",
       "<table border=\"1\" class=\"dataframe\">\n",
       "  <thead>\n",
       "    <tr style=\"text-align: right;\">\n",
       "      <th></th>\n",
       "      <th>SubjectID</th>\n",
       "      <th>Age</th>\n",
       "      <th>Sex(0-f,1-m)</th>\n",
       "      <th>IQ</th>\n",
       "      <th>L1_lexical_skill</th>\n",
       "      <th>L1_spelling_skill</th>\n",
       "      <th>English_Level</th>\n",
       "      <th>L2_spelling_skill</th>\n",
       "      <th>L2_vocabulary_size</th>\n",
       "      <th>L2_lexical_skill</th>\n",
       "    </tr>\n",
       "  </thead>\n",
       "  <tbody>\n",
       "    <tr>\n",
       "      <th>0</th>\n",
       "      <td>rum_1</td>\n",
       "      <td>30</td>\n",
       "      <td>0.0</td>\n",
       "      <td>7</td>\n",
       "      <td>79</td>\n",
       "      <td>57</td>\n",
       "      <td>C2</td>\n",
       "      <td>39.0</td>\n",
       "      <td>71.0</td>\n",
       "      <td>81.25</td>\n",
       "    </tr>\n",
       "    <tr>\n",
       "      <th>1</th>\n",
       "      <td>rum_2</td>\n",
       "      <td>20</td>\n",
       "      <td>0.0</td>\n",
       "      <td>10</td>\n",
       "      <td>74</td>\n",
       "      <td>44</td>\n",
       "      <td>C1</td>\n",
       "      <td>35.0</td>\n",
       "      <td>85.0</td>\n",
       "      <td>90.00</td>\n",
       "    </tr>\n",
       "    <tr>\n",
       "      <th>2</th>\n",
       "      <td>rum_3</td>\n",
       "      <td>20</td>\n",
       "      <td>0.0</td>\n",
       "      <td>7</td>\n",
       "      <td>83</td>\n",
       "      <td>58</td>\n",
       "      <td>C2</td>\n",
       "      <td>39.0</td>\n",
       "      <td>85.0</td>\n",
       "      <td>96.25</td>\n",
       "    </tr>\n",
       "    <tr>\n",
       "      <th>3</th>\n",
       "      <td>rum_4</td>\n",
       "      <td>20</td>\n",
       "      <td>0.0</td>\n",
       "      <td>5</td>\n",
       "      <td>78</td>\n",
       "      <td>43</td>\n",
       "      <td>C2</td>\n",
       "      <td>38.0</td>\n",
       "      <td>72.0</td>\n",
       "      <td>90.00</td>\n",
       "    </tr>\n",
       "    <tr>\n",
       "      <th>4</th>\n",
       "      <td>rum_5</td>\n",
       "      <td>29</td>\n",
       "      <td>0.0</td>\n",
       "      <td>8</td>\n",
       "      <td>87</td>\n",
       "      <td>59</td>\n",
       "      <td>C2</td>\n",
       "      <td>44.0</td>\n",
       "      <td>76.0</td>\n",
       "      <td>86.25</td>\n",
       "    </tr>\n",
       "    <tr>\n",
       "      <th>5</th>\n",
       "      <td>rum_6</td>\n",
       "      <td>17</td>\n",
       "      <td>0.0</td>\n",
       "      <td>9</td>\n",
       "      <td>78</td>\n",
       "      <td>45</td>\n",
       "      <td>C1</td>\n",
       "      <td>35.0</td>\n",
       "      <td>83.0</td>\n",
       "      <td>65.00</td>\n",
       "    </tr>\n",
       "    <tr>\n",
       "      <th>6</th>\n",
       "      <td>rum_7</td>\n",
       "      <td>19</td>\n",
       "      <td>0.0</td>\n",
       "      <td>8</td>\n",
       "      <td>85</td>\n",
       "      <td>55</td>\n",
       "      <td>C2</td>\n",
       "      <td>40.0</td>\n",
       "      <td>66.0</td>\n",
       "      <td>83.75</td>\n",
       "    </tr>\n",
       "    <tr>\n",
       "      <th>7</th>\n",
       "      <td>rum_8</td>\n",
       "      <td>21</td>\n",
       "      <td>0.0</td>\n",
       "      <td>6</td>\n",
       "      <td>80</td>\n",
       "      <td>45</td>\n",
       "      <td>C2</td>\n",
       "      <td>38.0</td>\n",
       "      <td>43.0</td>\n",
       "      <td>81.25</td>\n",
       "    </tr>\n",
       "    <tr>\n",
       "      <th>8</th>\n",
       "      <td>rum_9</td>\n",
       "      <td>21</td>\n",
       "      <td>0.0</td>\n",
       "      <td>7</td>\n",
       "      <td>74</td>\n",
       "      <td>47</td>\n",
       "      <td>C1</td>\n",
       "      <td>40.0</td>\n",
       "      <td>6.0</td>\n",
       "      <td>72.50</td>\n",
       "    </tr>\n",
       "    <tr>\n",
       "      <th>9</th>\n",
       "      <td>rum_10</td>\n",
       "      <td>21</td>\n",
       "      <td>0.0</td>\n",
       "      <td>10</td>\n",
       "      <td>82</td>\n",
       "      <td>60</td>\n",
       "      <td>C1</td>\n",
       "      <td>39.0</td>\n",
       "      <td>NaN</td>\n",
       "      <td>75.00</td>\n",
       "    </tr>\n",
       "  </tbody>\n",
       "</table>\n",
       "</div>"
      ],
      "text/plain": [
       "  SubjectID  Age  Sex(0-f,1-m)  IQ  L1_lexical_skill  L1_spelling_skill  \\\n",
       "0     rum_1   30           0.0   7                79                 57   \n",
       "1     rum_2   20           0.0  10                74                 44   \n",
       "2     rum_3   20           0.0   7                83                 58   \n",
       "3     rum_4   20           0.0   5                78                 43   \n",
       "4     rum_5   29           0.0   8                87                 59   \n",
       "5     rum_6   17           0.0   9                78                 45   \n",
       "6     rum_7   19           0.0   8                85                 55   \n",
       "7     rum_8   21           0.0   6                80                 45   \n",
       "8     rum_9   21           0.0   7                74                 47   \n",
       "9    rum_10   21           0.0  10                82                 60   \n",
       "\n",
       "  English_Level  L2_spelling_skill  L2_vocabulary_size  L2_lexical_skill  \n",
       "0            C2               39.0                71.0             81.25  \n",
       "1            C1               35.0                85.0             90.00  \n",
       "2            C2               39.0                85.0             96.25  \n",
       "3            C2               38.0                72.0             90.00  \n",
       "4            C2               44.0                76.0             86.25  \n",
       "5            C1               35.0                83.0             65.00  \n",
       "6            C2               40.0                66.0             83.75  \n",
       "7            C2               38.0                43.0             81.25  \n",
       "8            C1               40.0                 6.0             72.50  \n",
       "9            C1               39.0                 NaN             75.00  "
      ]
     },
     "execution_count": 4,
     "metadata": {},
     "output_type": "execute_result"
    }
   ],
   "source": [
    "dd_df.head(10)"
   ]
  },
  {
   "cell_type": "code",
   "execution_count": 25,
   "id": "de6797e7",
   "metadata": {},
   "outputs": [
    {
     "data": {
      "text/plain": [
       "array([[ 0,  1,  2,  3,  4,  5,  6,  7,  8,  9, 10, 11],\n",
       "       [ 0,  1,  2,  3,  4,  5,  6,  7,  8,  9, 10, 11],\n",
       "       [ 0,  1,  2,  3,  4,  5,  6,  7,  8,  9, 10, 11]])"
      ]
     },
     "execution_count": 25,
     "metadata": {},
     "output_type": "execute_result"
    }
   ],
   "source": [
    "arr = np.repeat(np.arange(12).reshape(1,-1), 3, axis=0)\n",
    "arr"
   ]
  },
  {
   "cell_type": "code",
   "execution_count": 29,
   "id": "847ff5f9",
   "metadata": {},
   "outputs": [
    {
     "data": {
      "text/plain": [
       "array([[False, False, False, False, False, False,  True,  True,  True,\n",
       "         True,  True,  True],\n",
       "       [False, False, False, False, False, False,  True,  True,  True,\n",
       "         True,  True,  True],\n",
       "       [False, False, False, False, False, False,  True,  True,  True,\n",
       "         True,  True,  True]])"
      ]
     },
     "execution_count": 29,
     "metadata": {},
     "output_type": "execute_result"
    }
   ],
   "source": [
    "np.asarray(arr > 5)"
   ]
  },
  {
   "cell_type": "code",
   "execution_count": 34,
   "id": "e0bddce0",
   "metadata": {},
   "outputs": [
    {
     "data": {
      "text/plain": [
       "(array([0, 1, 2], dtype=int64), array([5, 5, 5], dtype=int64))"
      ]
     },
     "execution_count": 34,
     "metadata": {},
     "output_type": "execute_result"
    }
   ],
   "source": [
    "np.nonzero(arr == 5)"
   ]
  },
  {
   "cell_type": "code",
   "execution_count": 1,
   "id": "9db1e5c5",
   "metadata": {},
   "outputs": [
    {
     "data": {
      "text/plain": [
       "list"
      ]
     },
     "execution_count": 1,
     "metadata": {},
     "output_type": "execute_result"
    }
   ],
   "source": [
    "li = ['f']\n",
    "type(li)"
   ]
  },
  {
   "cell_type": "code",
   "execution_count": 4,
   "id": "11c0b6f8",
   "metadata": {},
   "outputs": [],
   "source": [
    "import sys\n",
    "\n",
    "sys.path.append(\"../\")\n",
    "from codes.lpp_data import load_data"
   ]
  },
  {
   "cell_type": "code",
   "execution_count": 9,
   "id": "91440e1a",
   "metadata": {},
   "outputs": [],
   "source": [
    "df, x, y, f, t, i = load_data(\"classification\")"
   ]
  },
  {
   "cell_type": "code",
   "execution_count": 10,
   "id": "8bc91196",
   "metadata": {},
   "outputs": [
    {
     "data": {
      "text/html": [
       "<div>\n",
       "<style scoped>\n",
       "    .dataframe tbody tr th:only-of-type {\n",
       "        vertical-align: middle;\n",
       "    }\n",
       "\n",
       "    .dataframe tbody tr th {\n",
       "        vertical-align: top;\n",
       "    }\n",
       "\n",
       "    .dataframe thead th {\n",
       "        text-align: right;\n",
       "    }\n",
       "</style>\n",
       "<table border=\"1\" class=\"dataframe\">\n",
       "  <thead>\n",
       "    <tr style=\"text-align: right;\">\n",
       "      <th></th>\n",
       "      <th>SubjectID</th>\n",
       "      <th>English_Level</th>\n",
       "      <th>Age</th>\n",
       "      <th>Sex(0-f,1-m)</th>\n",
       "      <th>IQ</th>\n",
       "      <th>Test_ID</th>\n",
       "      <th>Word_Number</th>\n",
       "      <th>FIXATION_COUNT</th>\n",
       "      <th>SKIP</th>\n",
       "      <th>TOTAL_READING_TIME</th>\n",
       "      <th>FIRST_FIXATION_DURATION</th>\n",
       "      <th>FIRST_FIXATION_X</th>\n",
       "      <th>FIRST_FIXATION_Y</th>\n",
       "      <th>FIRST_RUN_TOTAL_READING_TIME</th>\n",
       "      <th>FIRST_SACCADE_AMPLITUDE</th>\n",
       "      <th>REGRESSION_IN</th>\n",
       "      <th>REGRESSION_OUT</th>\n",
       "      <th>REGRESSION_OUT_FULL</th>\n",
       "      <th>REGRESSION_PATH_DURATION</th>\n",
       "    </tr>\n",
       "  </thead>\n",
       "  <tbody>\n",
       "    <tr>\n",
       "      <th>1</th>\n",
       "      <td>rum_1</td>\n",
       "      <td>C2</td>\n",
       "      <td>30</td>\n",
       "      <td>0.0</td>\n",
       "      <td>7</td>\n",
       "      <td>1</td>\n",
       "      <td>2</td>\n",
       "      <td>2</td>\n",
       "      <td>0</td>\n",
       "      <td>214</td>\n",
       "      <td>185.0</td>\n",
       "      <td>233.8</td>\n",
       "      <td>111.1</td>\n",
       "      <td>214.0</td>\n",
       "      <td>1.97</td>\n",
       "      <td>0.0</td>\n",
       "      <td>0.0</td>\n",
       "      <td>0.0</td>\n",
       "      <td>214.0</td>\n",
       "    </tr>\n",
       "    <tr>\n",
       "      <th>2</th>\n",
       "      <td>rum_1</td>\n",
       "      <td>C2</td>\n",
       "      <td>30</td>\n",
       "      <td>0.0</td>\n",
       "      <td>7</td>\n",
       "      <td>1</td>\n",
       "      <td>3</td>\n",
       "      <td>1</td>\n",
       "      <td>0</td>\n",
       "      <td>281</td>\n",
       "      <td>281.0</td>\n",
       "      <td>335.7</td>\n",
       "      <td>117.7</td>\n",
       "      <td>281.0</td>\n",
       "      <td>1.44</td>\n",
       "      <td>0.0</td>\n",
       "      <td>0.0</td>\n",
       "      <td>0.0</td>\n",
       "      <td>281.0</td>\n",
       "    </tr>\n",
       "    <tr>\n",
       "      <th>3</th>\n",
       "      <td>rum_1</td>\n",
       "      <td>C2</td>\n",
       "      <td>30</td>\n",
       "      <td>0.0</td>\n",
       "      <td>7</td>\n",
       "      <td>1</td>\n",
       "      <td>4</td>\n",
       "      <td>1</td>\n",
       "      <td>0</td>\n",
       "      <td>250</td>\n",
       "      <td>250.0</td>\n",
       "      <td>416.2</td>\n",
       "      <td>124.6</td>\n",
       "      <td>250.0</td>\n",
       "      <td>1.54</td>\n",
       "      <td>0.0</td>\n",
       "      <td>0.0</td>\n",
       "      <td>0.0</td>\n",
       "      <td>250.0</td>\n",
       "    </tr>\n",
       "    <tr>\n",
       "      <th>4</th>\n",
       "      <td>rum_1</td>\n",
       "      <td>C2</td>\n",
       "      <td>30</td>\n",
       "      <td>0.0</td>\n",
       "      <td>7</td>\n",
       "      <td>1</td>\n",
       "      <td>5</td>\n",
       "      <td>1</td>\n",
       "      <td>0</td>\n",
       "      <td>252</td>\n",
       "      <td>252.0</td>\n",
       "      <td>518.2</td>\n",
       "      <td>107.8</td>\n",
       "      <td>252.0</td>\n",
       "      <td>1.86</td>\n",
       "      <td>0.0</td>\n",
       "      <td>0.0</td>\n",
       "      <td>0.0</td>\n",
       "      <td>252.0</td>\n",
       "    </tr>\n",
       "    <tr>\n",
       "      <th>5</th>\n",
       "      <td>rum_1</td>\n",
       "      <td>C2</td>\n",
       "      <td>30</td>\n",
       "      <td>0.0</td>\n",
       "      <td>7</td>\n",
       "      <td>1</td>\n",
       "      <td>6</td>\n",
       "      <td>1</td>\n",
       "      <td>0</td>\n",
       "      <td>226</td>\n",
       "      <td>226.0</td>\n",
       "      <td>605.4</td>\n",
       "      <td>104.7</td>\n",
       "      <td>226.0</td>\n",
       "      <td>1.73</td>\n",
       "      <td>0.0</td>\n",
       "      <td>0.0</td>\n",
       "      <td>0.0</td>\n",
       "      <td>226.0</td>\n",
       "    </tr>\n",
       "  </tbody>\n",
       "</table>\n",
       "</div>"
      ],
      "text/plain": [
       "  SubjectID English_Level  Age  Sex(0-f,1-m)  IQ  Test_ID  Word_Number  \\\n",
       "1     rum_1            C2   30           0.0   7        1            2   \n",
       "2     rum_1            C2   30           0.0   7        1            3   \n",
       "3     rum_1            C2   30           0.0   7        1            4   \n",
       "4     rum_1            C2   30           0.0   7        1            5   \n",
       "5     rum_1            C2   30           0.0   7        1            6   \n",
       "\n",
       "   FIXATION_COUNT  SKIP  TOTAL_READING_TIME  FIRST_FIXATION_DURATION  \\\n",
       "1               2     0                 214                    185.0   \n",
       "2               1     0                 281                    281.0   \n",
       "3               1     0                 250                    250.0   \n",
       "4               1     0                 252                    252.0   \n",
       "5               1     0                 226                    226.0   \n",
       "\n",
       "   FIRST_FIXATION_X  FIRST_FIXATION_Y  FIRST_RUN_TOTAL_READING_TIME  \\\n",
       "1             233.8             111.1                         214.0   \n",
       "2             335.7             117.7                         281.0   \n",
       "3             416.2             124.6                         250.0   \n",
       "4             518.2             107.8                         252.0   \n",
       "5             605.4             104.7                         226.0   \n",
       "\n",
       "   FIRST_SACCADE_AMPLITUDE  REGRESSION_IN  REGRESSION_OUT  \\\n",
       "1                     1.97            0.0             0.0   \n",
       "2                     1.44            0.0             0.0   \n",
       "3                     1.54            0.0             0.0   \n",
       "4                     1.86            0.0             0.0   \n",
       "5                     1.73            0.0             0.0   \n",
       "\n",
       "   REGRESSION_OUT_FULL  REGRESSION_PATH_DURATION  \n",
       "1                  0.0                     214.0  \n",
       "2                  0.0                     281.0  \n",
       "3                  0.0                     250.0  \n",
       "4                  0.0                     252.0  \n",
       "5                  0.0                     226.0  "
      ]
     },
     "execution_count": 10,
     "metadata": {},
     "output_type": "execute_result"
    }
   ],
   "source": [
    "df.head()"
   ]
  },
  {
   "cell_type": "code",
   "execution_count": 14,
   "id": "6d17aa41",
   "metadata": {},
   "outputs": [
    {
     "data": {
      "text/plain": [
       "array([[  0.  ,   0.  ,   0.  , ..., 214.  ,   1.97, 214.  ],\n",
       "       [  0.  ,   0.  ,   0.  , ..., 281.  ,   1.44, 281.  ],\n",
       "       [  0.  ,   0.  ,   0.  , ..., 250.  ,   1.54, 250.  ],\n",
       "       ...,\n",
       "       [  0.  ,   0.  ,   0.  , ..., 415.  ,   0.67, 605.  ],\n",
       "       [  0.  ,   0.  ,   0.  , ..., 225.  ,   5.24, 225.  ],\n",
       "       [  0.  ,   0.  ,   0.  , ..., 428.  ,  24.13, 428.  ]])"
      ]
     },
     "execution_count": 14,
     "metadata": {},
     "output_type": "execute_result"
    }
   ],
   "source": [
    "x"
   ]
  },
  {
   "cell_type": "code",
   "execution_count": 16,
   "id": "a734f49d",
   "metadata": {},
   "outputs": [
    {
     "data": {
      "text/plain": [
       "48"
      ]
     },
     "execution_count": 16,
     "metadata": {},
     "output_type": "execute_result"
    }
   ],
   "source": [
    "arr = np.array([4, 14, -7, 41, 5, 4, 9])\n",
    "np.ptp(arr) # range of array values"
   ]
  },
  {
   "cell_type": "code",
   "execution_count": null,
   "id": "8b5fc090",
   "metadata": {},
   "outputs": [],
   "source": []
  }
 ],
 "metadata": {
  "kernelspec": {
   "display_name": "Python 3 (ipykernel)",
   "language": "python",
   "name": "python3"
  },
  "language_info": {
   "codemirror_mode": {
    "name": "ipython",
    "version": 3
   },
   "file_extension": ".py",
   "mimetype": "text/x-python",
   "name": "python",
   "nbconvert_exporter": "python",
   "pygments_lexer": "ipython3",
   "version": "3.10.4"
  }
 },
 "nbformat": 4,
 "nbformat_minor": 5
}
